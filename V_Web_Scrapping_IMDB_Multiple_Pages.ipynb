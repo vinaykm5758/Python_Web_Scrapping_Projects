{
 "cells": [
  {
   "cell_type": "code",
   "execution_count": 1,
   "id": "391fe0b5",
   "metadata": {},
   "outputs": [],
   "source": [
    "# Project Description: Extract the top 1000 movies list from multiple pages from IMDB\n",
    "# created on 2023-08-06\n",
    "# created by VM\n"
   ]
  },
  {
   "cell_type": "code",
   "execution_count": 2,
   "id": "ec1fc135",
   "metadata": {},
   "outputs": [],
   "source": [
    "# import libraries \n",
    "\n",
    "from bs4 import BeautifulSoup\n",
    "import requests\n",
    "import time\n",
    "from time import sleep\n",
    "import datetime\n",
    "from random import randint\n",
    "import pandas as pd\n",
    "import numpy as np"
   ]
  },
  {
   "cell_type": "code",
   "execution_count": 3,
   "id": "6afd2473",
   "metadata": {},
   "outputs": [],
   "source": [
    "#Declaring the headers \n",
    "\n",
    "headers = {\"Accept-Language\": \"en-US,en;q=0.5\"}\n",
    "\n",
    "#Declare empty variables\n",
    "\n",
    "movie_name = []\n",
    "year = []\n",
    "time=[]\n",
    "rating=[]\n",
    "metascore =[]\n",
    "votes = []\n",
    "gross = []\n",
    "description = []\n"
   ]
  },
  {
   "cell_type": "code",
   "execution_count": null,
   "id": "fae2eddc",
   "metadata": {},
   "outputs": [],
   "source": []
  },
  {
   "cell_type": "code",
   "execution_count": 4,
   "id": "88be255b",
   "metadata": {},
   "outputs": [],
   "source": [
    "# Data will be extracted by concatenating the page start using variable and generating dynamic number\n",
    "\n",
    "# https://www.imdb.com/search/title/?groups=top_1000&sort=user_rating,desc&count=100&start=1&ref_=adv_nxt\n",
    "# https://www.imdb.com/search/title/?groups=top_1000&sort=user_rating,desc&count=100&start=101&ref_=adv_nxt\n",
    "# https://www.imdb.com/search/title/?groups=top_1000&sort=user_rating,desc&count=100&start=2011&ref_=adv_nxt\n",
    "# https://www.imdb.com/search/title/?groups=top_1000&sort=user_rating,desc&count=100&start=301&ref_=adv_nxt\n",
    "# https://www.imdb.com/search/title/?groups=top_1000&sort=user_rating,desc&count=100&start=401&ref_=adv_nxt\n",
    "# https://www.imdb.com/search/title/?groups=top_1000&sort=user_rating,desc&count=100&start=501&ref_=adv_nxt\n",
    "# https://www.imdb.com/search/title/?groups=top_1000&sort=user_rating,desc&count=100&start=601&ref_=adv_nxt\n",
    "# https://www.imdb.com/search/title/?groups=top_1000&sort=user_rating,desc&count=100&start=701&ref_=adv_nxt\n",
    "# https://www.imdb.com/search/title/?groups=top_1000&sort=user_rating,desc&count=100&start=801&ref_=adv_nxt\n",
    "# https://www.imdb.com/search/title/?groups=top_1000&sort=user_rating,desc&count=100&start=901&ref_=adv_nxt\n",
    "    "
   ]
  },
  {
   "cell_type": "code",
   "execution_count": 5,
   "id": "c876db6a",
   "metadata": {},
   "outputs": [],
   "source": [
    "pages = np.arange(1,1000,100)\n"
   ]
  },
  {
   "cell_type": "code",
   "execution_count": null,
   "id": "08494002",
   "metadata": {},
   "outputs": [],
   "source": []
  },
  {
   "cell_type": "code",
   "execution_count": null,
   "id": "c9d44ba3",
   "metadata": {},
   "outputs": [],
   "source": [
    "#creating an array of values and passing it in the url for dynamic webpages\n",
    "pages = np.arange(1,1000,100)\n",
    "\n",
    "#the whole core of the script\n",
    "for page in pages:\n",
    "    page = requests.get(\"https://www.imdb.com/search/title/?groups=top_1000&sort=user_rating,desc&count=100&start=\"+str(page)+\"&ref_=adv_nxt\")\n",
    "    soup = BeautifulSoup(page.text, 'html.parser')\n",
    "    movie_data = soup.findAll('div', attrs = {'class': 'lister-item mode-advanced'})\n",
    "    sleep(randint(2,8))\n",
    "    for store in movie_data:\n",
    "        name = store.h3.a.text\n",
    "        #MOVIE NAMES\n",
    "        movie_name.append(name)\n",
    "        \n",
    "        #RELEASE YEAR\n",
    "        year_of_release = store.h3.find('span', class_ = 'lister-item-year text-muted unbold').text.replace('(', '').replace(')', '')\n",
    "        year.append(year_of_release)\n",
    "        \n",
    "        #TOTAL TIME\n",
    "        runtime = store.p.find(\"span\", class_ = 'runtime').text\n",
    "        time.append(runtime)\n",
    "        \n",
    "        #RATINGS\n",
    "        rate = store.find('div', class_ = \"inline-block ratings-imdb-rating\").text.replace('\\n', '')\n",
    "        rating.append(rate)\n",
    "        \n",
    "        #METASCORES\n",
    "        \n",
    "        meta = store.find('span', class_ = \"metascore\").text if store.find('span', class_ = \"metascore\") else \"0\"\n",
    "        metascore.append(meta)\n",
    "        \n",
    "        \n",
    "        #VOTES AND GROSS AMOUNTS\n",
    "        \n",
    "        value = store.find_all('span', attrs = {'name': \"nv\"})\n",
    "        \n",
    "        vote = value[0].text\n",
    "        votes.append(vote)\n",
    "        \n",
    "        grosses = value[1].text if len(value)>1 else '0'\n",
    "        gross.append(grosses)\n",
    "        \n",
    "        \n",
    "        #MOVIES DESCRIPTION\n",
    "        \n",
    "        describe = store.find_all('p', class_ = 'text-muted')\n",
    "        description_ = describe[1].text.replace('\\n', '') if len(describe) >1 else 'NULL'\n",
    "        description.append(description_)\n",
    "        \n",
    "        "
   ]
  },
  {
   "cell_type": "code",
   "execution_count": null,
   "id": "d5a2debe",
   "metadata": {},
   "outputs": [],
   "source": []
  },
  {
   "cell_type": "code",
   "execution_count": null,
   "id": "1bc13c5c",
   "metadata": {},
   "outputs": [],
   "source": []
  },
  {
   "cell_type": "code",
   "execution_count": null,
   "id": "15b749a5",
   "metadata": {},
   "outputs": [],
   "source": [
    "#Create a dataframe \n",
    "movie_list = pd.DataFrame({ \"Movie Name\": movie_name, \"Year of Release\" : year, \"Watch Time\": time,\"Movie Rating\": rating, \"Meatscore of movie\": metascore, \"Votes\" : votes, \"Gross\": gross, \"Description\": description  })"
   ]
  },
  {
   "cell_type": "code",
   "execution_count": null,
   "id": "07ad846c",
   "metadata": {},
   "outputs": [],
   "source": []
  },
  {
   "cell_type": "code",
   "execution_count": null,
   "id": "766378b7",
   "metadata": {},
   "outputs": [],
   "source": [
    "movie_list.head()"
   ]
  },
  {
   "cell_type": "code",
   "execution_count": null,
   "id": "ceb869a9",
   "metadata": {},
   "outputs": [],
   "source": [
    "movie_list.count()"
   ]
  },
  {
   "cell_type": "code",
   "execution_count": null,
   "id": "352f4a0f",
   "metadata": {},
   "outputs": [],
   "source": [
    "movie_list.nunique()"
   ]
  },
  {
   "cell_type": "code",
   "execution_count": null,
   "id": "b2ec2ffb",
   "metadata": {},
   "outputs": [],
   "source": [
    "movie_list.info()"
   ]
  },
  {
   "cell_type": "code",
   "execution_count": null,
   "id": "f02c8d5f",
   "metadata": {},
   "outputs": [],
   "source": []
  },
  {
   "cell_type": "code",
   "execution_count": null,
   "id": "8472335f",
   "metadata": {},
   "outputs": [],
   "source": []
  },
  {
   "cell_type": "code",
   "execution_count": null,
   "id": "3ec7d4e7",
   "metadata": {},
   "outputs": [],
   "source": [
    "#save the data in csv format\n",
    "movie_list.to_csv(\"IMDB_Top_1000_Movies_CSV_REPORT.csv\",index=False)"
   ]
  },
  {
   "cell_type": "code",
   "execution_count": null,
   "id": "43df8b87",
   "metadata": {},
   "outputs": [],
   "source": []
  },
  {
   "cell_type": "code",
   "execution_count": null,
   "id": "10562e76",
   "metadata": {},
   "outputs": [],
   "source": [
    "# Saving the data into parquet format with snappy compression\n",
    "movie_list.to_parquet(\"IMDB_Top_1000_Movies_PARQUET_REPORT.parquet\",compression='snappy', index=None)"
   ]
  },
  {
   "cell_type": "code",
   "execution_count": null,
   "id": "3462f466",
   "metadata": {},
   "outputs": [],
   "source": []
  }
 ],
 "metadata": {
  "kernelspec": {
   "display_name": "Python 3 (ipykernel)",
   "language": "python",
   "name": "python3"
  },
  "language_info": {
   "codemirror_mode": {
    "name": "ipython",
    "version": 3
   },
   "file_extension": ".py",
   "mimetype": "text/x-python",
   "name": "python",
   "nbconvert_exporter": "python",
   "pygments_lexer": "ipython3",
   "version": "3.10.9"
  }
 },
 "nbformat": 4,
 "nbformat_minor": 5
}
