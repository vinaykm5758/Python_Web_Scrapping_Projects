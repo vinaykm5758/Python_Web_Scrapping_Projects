{
 "cells": [
  {
   "cell_type": "code",
   "execution_count": 33,
   "id": "81129bd0",
   "metadata": {},
   "outputs": [],
   "source": [
    "import json\n",
    "from datetime import datetime\n",
    "import pandas as pd\n",
    "import requests\n",
    "import numpy as np\n"
   ]
  },
  {
   "cell_type": "code",
   "execution_count": 56,
   "id": "fa7ec3a3",
   "metadata": {},
   "outputs": [],
   "source": [
    "\n"
   ]
  },
  {
   "cell_type": "code",
   "execution_count": null,
   "id": "27086216",
   "metadata": {},
   "outputs": [],
   "source": [
    "def kelvin_to_fahrenheit(temp_in_kelvin):\n",
    "    temp_in_fahrenheit = (temp_in_kelvin - 273.15) * (9/5) + 32\n",
    "    return temp_in_fahrenheit"
   ]
  },
  {
   "cell_type": "code",
   "execution_count": 79,
   "id": "e999a881",
   "metadata": {},
   "outputs": [],
   "source": [
    "# Extract Boston Daily Weather Data and load it into CSV File\n",
    "# Add your APP_ID\n",
    "\n",
    "def boston_weather_data(url):\n",
    "    a_var_city=\"Boston\"\n",
    "    boston_full_api_url=\"https://api.openweathermap.org/data/2.5/weather?q=\" +a_var_city+\"&appid=XXXXX\"\n",
    "    boston_requests = requests.get(boston_full_api_url)\n",
    "    boston_data = boston_requests.json()\n",
    "    \n",
    "    city = boston_data[\"name\"]\n",
    "    weather_description = boston_data[\"weather\"][0]['description']\n",
    "    temp_farenheit = np.round(kelvin_to_fahrenheit(boston_data[\"main\"][\"temp\"]),2)\n",
    "    feels_like_farenheit= np.round(kelvin_to_fahrenheit(boston_data[\"main\"][\"feels_like\"]),2)\n",
    "    min_temp_farenheit = np.round(kelvin_to_fahrenheit(boston_data[\"main\"][\"temp_min\"]),2)\n",
    "    max_temp_farenheit = np.round(kelvin_to_fahrenheit(boston_data[\"main\"][\"temp_max\"]),2)\n",
    "    pressure = boston_data[\"main\"][\"pressure\"]\n",
    "    humidity = boston_data[\"main\"][\"humidity\"]\n",
    "    wind_speed = boston_data[\"wind\"][\"speed\"]\n",
    "    time_of_record = datetime.utcfromtimestamp(boston_data['dt'] + boston_data['timezone'])\n",
    "    sunrise_time = datetime.utcfromtimestamp(boston_data['sys']['sunrise'] + boston_data['timezone'])\n",
    "    sunset_time = datetime.utcfromtimestamp(boston_data['sys']['sunset'] + boston_data['timezone'])\n",
    "    \n",
    "    boston_transformed_data = {\n",
    "                        \"City\": city,\n",
    "                        \"Description\": weather_description,\n",
    "                        \"Temperature (F)\": temp_farenheit,\n",
    "                        \"Feels Like (F)\": feels_like_farenheit,\n",
    "                        \"Minimun Temp (F)\":min_temp_farenheit,\n",
    "                        \"Maximum Temp (F)\": max_temp_farenheit,\n",
    "                        \"Pressure\": pressure,\n",
    "                        \"Humidty\": humidity,\n",
    "                        \"Wind Speed\": wind_speed,\n",
    "                        \"Time of Record\": time_of_record,\n",
    "                        \"Sunrise (Local Time)\":sunrise_time,\n",
    "                        \"Sunset (Local Time)\": sunset_time                        \n",
    "                    }\n",
    "    \n",
    "    # convert dict to List\n",
    "    boston_transformed_data_list = [boston_transformed_data]\n",
    "    \n",
    "    #create data frame\n",
    "    boston_df = pd.DataFrame(boston_transformed_data_list)\n",
    "    \n",
    "    #Write to CSV File\n",
    "    boston_df.to_csv(\"boston_daily_weather_report.csv\",index=False)\n",
    "    \n",
    "    \n",
    "boston_weather_data(boston_full_api_url)  \n",
    "    "
   ]
  },
  {
   "cell_type": "code",
   "execution_count": 69,
   "id": "78bd1ce0",
   "metadata": {
    "scrolled": true
   },
   "outputs": [],
   "source": []
  },
  {
   "cell_type": "code",
   "execution_count": 74,
   "id": "a2c2c3ff",
   "metadata": {},
   "outputs": [],
   "source": [
    "\n"
   ]
  },
  {
   "cell_type": "code",
   "execution_count": 77,
   "id": "d52613c3",
   "metadata": {},
   "outputs": [],
   "source": [
    "# Extract Philadelphia Daily Weather Data and load it into CSV File\n",
    "# Add your APP_ID\n",
    "\n",
    "def philadelphia_weather_data(url):\n",
    "    b_var_city=\"Philadelphia\"\n",
    "    philadelphia_full_api_url=\"https://api.openweathermap.org/data/2.5/weather?q=\"+b_var_city+\"&appid=XXXX\"\n",
    "    philadelphia_requests = requests.get(philadelphia_full_api_url)\n",
    "    philadelphia_data = philadelphia_requests.json()\n",
    "\n",
    "    ####\n",
    "    city = philadelphia_data[\"name\"]\n",
    "    weather_description = philadelphia_data[\"weather\"][0]['description']\n",
    "    temp_farenheit = np.round(kelvin_to_fahrenheit(philadelphia_data[\"main\"][\"temp\"]),2)\n",
    "    feels_like_farenheit= np.round(kelvin_to_fahrenheit(philadelphia_data[\"main\"][\"feels_like\"]),2)\n",
    "    min_temp_farenheit = np.round(kelvin_to_fahrenheit(philadelphia_data[\"main\"][\"temp_min\"]),2)\n",
    "    max_temp_farenheit = np.round(kelvin_to_fahrenheit(philadelphia_data[\"main\"][\"temp_max\"]),2)\n",
    "    pressure = philadelphia_data[\"main\"][\"pressure\"]\n",
    "    humidity = philadelphia_data[\"main\"][\"humidity\"]\n",
    "    wind_speed = philadelphia_data[\"wind\"][\"speed\"]\n",
    "    time_of_record = datetime.utcfromtimestamp(philadelphia_data['dt'] + philadelphia_data['timezone'])\n",
    "    sunrise_time = datetime.utcfromtimestamp(philadelphia_data['sys']['sunrise'] + philadelphia_data['timezone'])\n",
    "    sunset_time = datetime.utcfromtimestamp(philadelphia_data['sys']['sunset'] + philadelphia_data['timezone'])\n",
    "    \n",
    "    philadelphia_transformed_data = {\n",
    "                        \"City\": city,\n",
    "                        \"Description\": weather_description,\n",
    "                        \"Temperature (F)\": temp_farenheit,\n",
    "                        \"Feels Like (F)\": feels_like_farenheit,\n",
    "                        \"Minimun Temp (F)\":min_temp_farenheit,\n",
    "                        \"Maximum Temp (F)\": max_temp_farenheit,\n",
    "                        \"Pressure\": pressure,\n",
    "                        \"Humidty\": humidity,\n",
    "                        \"Wind Speed\": wind_speed,\n",
    "                        \"Time of Record\": time_of_record,\n",
    "                        \"Sunrise (Local Time)\":sunrise_time,\n",
    "                        \"Sunset (Local Time)\": sunset_time                        \n",
    "                    }\n",
    "    \n",
    "    # convert dict to List\n",
    "    philadelphia_transformed_data_list = [philadelphia_transformed_data]\n",
    "    \n",
    "    #create data frame\n",
    "    philadelphia_df = pd.DataFrame(philadelphia_transformed_data_list)\n",
    "    \n",
    "    #Write to CSV File\n",
    "    philadelphia_df.to_csv(\"philadelphia_daily_weather_report.csv\",index=False)\n",
    "    \n",
    "    \n",
    "philadelphia_weather_data(philadelphia_full_api_url)  \n"
   ]
  },
  {
   "cell_type": "code",
   "execution_count": 59,
   "id": "54a42e57",
   "metadata": {},
   "outputs": [],
   "source": []
  },
  {
   "cell_type": "code",
   "execution_count": null,
   "id": "d8404f47",
   "metadata": {},
   "outputs": [],
   "source": [
    "######end"
   ]
  },
  {
   "cell_type": "code",
   "execution_count": null,
   "id": "57044630",
   "metadata": {},
   "outputs": [],
   "source": []
  }
 ],
 "metadata": {
  "kernelspec": {
   "display_name": "Python 3 (ipykernel)",
   "language": "python",
   "name": "python3"
  },
  "language_info": {
   "codemirror_mode": {
    "name": "ipython",
    "version": 3
   },
   "file_extension": ".py",
   "mimetype": "text/x-python",
   "name": "python",
   "nbconvert_exporter": "python",
   "pygments_lexer": "ipython3",
   "version": "3.10.9"
  }
 },
 "nbformat": 4,
 "nbformat_minor": 5
}
